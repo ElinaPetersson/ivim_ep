{
  "nbformat": 4,
  "nbformat_minor": 0,
  "metadata": {
    "colab": {
      "provenance": []
    },
    "kernelspec": {
      "name": "python3",
      "display_name": "Python 3"
    },
    "language_info": {
      "name": "python"
    }
  },
  "cells": [
    {
      "cell_type": "markdown",
      "source": [
        "# Example usage of IVIM package\n",
        "---\n",
        "In this example we will utilize various functionality of the IVIM Python package for a typical usage scenario in the liver. We will:\n",
        "\n",
        "1.   Optimize the b-value acquisition scheme\n",
        "2.   Simulate noisy IVIM signal\n",
        "3.   Fit IVIM parameters to the noisy data\n",
        "\n",
        "\n",
        "\n",
        "\n"
      ],
      "metadata": {
        "id": "XWhSmOR8cI7c"
      }
    },
    {
      "cell_type": "code",
      "execution_count": null,
      "metadata": {
        "id": "JzG_KJMOITOR",
        "colab": {
          "base_uri": "https://localhost:8080/"
        },
        "outputId": "f7d97d12-d121-4e5b-f86b-f881917c5b1c"
      },
      "outputs": [
        {
          "output_type": "stream",
          "name": "stderr",
          "text": [
            "/usr/local/lib/python3.10/dist-packages/ivim/preproc/ec_susc.py:12: UserWarning: FSL installation not found. Correction for motion, eddy currents and susceptibility induced distorsions will not work.\n",
            "  warnings.warn('FSL installation not found. Correction for motion, eddy currents and susceptibility induced distorsions will not work.')\n"
          ]
        }
      ],
      "source": [
        "# !git clone https://github.com/oscarjalnefjord/ivim.git &> /dev/null\n",
        "# !pip install ivim &> /dev/null\n",
        "# !pip uninstall ivim -y\n",
        "!pip install git+https://github.com/ElinaPetersson/ivim_ep.git &> /dev/null # changed the setup.py file\n",
        "\n",
        "import pandas as pd\n",
        "import os\n",
        "import numpy as np\n",
        "import ivim\n",
        "from ivim.models import DIFFUSIVE_REGIME"
      ]
    },
    {
      "cell_type": "markdown",
      "source": [
        "## 1. Optimize b-value scheme\n",
        "Typical parameter values for the liver are D=1-1.2e-3$mm^2/s$, f=0.15-0.30 and D*=50e-3$mm^2/s$"
      ],
      "metadata": {
        "id": "s3O28SQAUWBy"
      }
    },
    {
      "cell_type": "code",
      "source": [
        "# Create a phantom\n",
        "D = np.array([[1]])*1e-3\n",
        "f = np.array([[0.15]])\n",
        "Dstar = np.array([[20e-3]])\n",
        "SNR=100\n",
        "\n",
        "# Optimize b-values using crlb\n",
        "b,a = ivim.optimize.crlb(D.ravel(),f.ravel(),regime=DIFFUSIVE_REGIME,bmax=1000,fitK=False,minbias=False,SNR=SNR,bthr=200,Dstar=Dstar.ravel())"
      ],
      "metadata": {
        "id": "WWqFkeLCJtSF",
        "colab": {
          "base_uri": "https://localhost:8080/"
        },
        "outputId": "d353ebd8-9fd5-409c-da0a-4b39076881dd"
      },
      "execution_count": null,
      "outputs": [
        {
          "output_type": "stream",
          "name": "stderr",
          "text": [
            "/usr/local/lib/python3.10/dist-packages/scipy/optimize/_optimize.py:404: RuntimeWarning: Values in x were outside bounds during a minimize step, clipping to bounds\n",
            "  warnings.warn(\"Values in x were outside bounds during a \"\n"
          ]
        }
      ]
    },
    {
      "cell_type": "markdown",
      "source": [
        "## 2. Simulate noisy IVIM signal"
      ],
      "metadata": {
        "id": "lM5n5Bptc1d_"
      }
    },
    {
      "cell_type": "code",
      "source": [
        "# Save b-values as .bval\n",
        "n = np.round(a*14).astype(int)\n",
        "while sum(n) > 14: n[np.argmax(n)]-=1\n",
        "b = [b[i] for i in range(len(n)) for _ in range(n[i])]\n",
        "bval_file = os.path.join(os.getcwd(),'opt.bval')\n",
        "ivim.io.base.write_bval(bval_file, b)\n",
        "\n",
        "# Save true parameter values\n",
        "D_file = os.path.join(os.getcwd(),'true_D.nii.gz')\n",
        "f_file = os.path.join(os.getcwd(),'true_f.nii.gz')\n",
        "Dstar_file = os.path.join(os.getcwd(),'true_Dstar.nii.gz')\n",
        "ivim.io.base.write_im(D_file, D)\n",
        "ivim.io.base.write_im(f_file, f)\n",
        "ivim.io.base.write_im(Dstar_file, Dstar)\n",
        "\n",
        "\n",
        "# Simulate noisy IVIM signal with kurtosis\n",
        "n_noise=1000\n",
        "noise_sigma=1/SNR\n",
        "K_file = os.path.join(os.getcwd(),'true_K.nii.gz')\n",
        "ivim.io.base.write_im(K_file, np.ones_like(D)*0.1) # adjust to vary level of Kurtosis\n",
        "ivim.sim.noise(D_file=D_file,f_file=f_file,Dstar_file=Dstar_file,K_file=K_file,regime=DIFFUSIVE_REGIME,bval_file=bval_file,noise_sigma=noise_sigma,n_noise=n_noise,outbase=os.path.join(os.getcwd(),'sim'))\n"
      ],
      "metadata": {
        "id": "37pJLPzOc70N"
      },
      "execution_count": null,
      "outputs": []
    },
    {
      "cell_type": "markdown",
      "source": [
        "## 3. Fit IVIM parameters\n",
        "Nonlinear least-squares is used in the example to fit parameters to the noisy signal."
      ],
      "metadata": {
        "id": "kr6LVtZgeCn_"
      }
    },
    {
      "cell_type": "code",
      "source": [
        "sim_im = os.path.join(os.getcwd(),'sim.nii.gz')\n",
        "ivim.fit.nlls(im_file=sim_im,bval_file=bval_file,regime=DIFFUSIVE_REGIME,outbase=os.path.join(os.getcwd(),'est'))"
      ],
      "metadata": {
        "id": "ZrNdJJKneE3Q"
      },
      "execution_count": null,
      "outputs": []
    },
    {
      "cell_type": "code",
      "source": [
        "\n",
        "import matplotlib.pyplot as plt\n",
        "fig, ax = plt.subplots(1,3,figsize=(12,4))\n",
        "for pidx, p in enumerate(['D','f','Dstar']):\n",
        "  est_p = ivim.io.base.read_im(f'est_{p}.nii.gz')\n",
        "  true_p = ivim.io.base.read_im(f'true_{p}.nii.gz')\n",
        "  ax[pidx].boxplot(est_p.reshape(1,n_noise).T)\n",
        "  ax[pidx].plot(np.array([0.8,1.2]),true_p.ravel()*np.ones(2),label=f'True {p}')\n",
        "  ax[pidx].set_title(f'{p}')\n",
        "  ax[pidx].legend()\n",
        "plt.tight_layout()\n",
        "plt.show();\n"
      ],
      "metadata": {
        "id": "ziThB_HWMmKW",
        "colab": {
          "base_uri": "https://localhost:8080/",
          "height": 407
        },
        "outputId": "07850b67-534b-436d-ba8a-b368d968f7a9"
      },
      "execution_count": null,
      "outputs": [
        {
          "output_type": "display_data",
          "data": {
            "text/plain": [
              "<Figure size 1200x400 with 3 Axes>"
            ],
            "image/png": "[encoded data removed]"
          },
          "metadata": {}
        }
      ]
    },
    {
      "cell_type": "code",
      "source": [
        "ivim.io.base.read_bval('sim.bval')"
      ],
      "metadata": {
        "colab": {
          "base_uri": "https://localhost:8080/"
        },
        "id": "CEN05YqcnOmr",
        "outputId": "c037fe6b-d6ee-4dfe-cb4c-cc7a2c04131c"
      },
      "execution_count": null,
      "outputs": [
        {
          "output_type": "execute_result",
          "data": {
            "text/plain": [
              "array([0., 0., 0., 0., 0., 0., 0., 0., 0., 0., 0., 0., 0., 0.])"
            ]
          },
          "metadata": {},
          "execution_count": 51
        }
      ]
    },
    {
      "cell_type": "code",
      "source": [
        "ivim.io.base.read_im('sim.nii.gz').shape"
      ],
      "metadata": {
        "colab": {
          "base_uri": "https://localhost:8080/"
        },
        "id": "ep6nW0gfuIYe",
        "outputId": "9d48d4f0-c6e2-457f-8085-43ac91c86da3"
      },
      "execution_count": null,
      "outputs": [
        {
          "output_type": "execute_result",
          "data": {
            "text/plain": [
              "(1, 1, 1000, 14)"
            ]
          },
          "metadata": {},
          "execution_count": 48
        }
      ]
    }
  ]
}
